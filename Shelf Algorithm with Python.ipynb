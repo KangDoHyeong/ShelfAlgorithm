{
 "cells": [
  {
   "cell_type": "markdown",
   "metadata": {},
   "source": [
    "pt라는 256*256 numpy 2차원 배열을 계속해서 수정해나가는 방법으로 코드를 구성했습니다.<br>\n",
    "따라서 담은 상자에 대한 정보는 따로 저장히지 않았습니다. <br>\n",
    "남은 자리에 넣을 수 있는 상자 계속 넣는 방법도 안 만들었습니다. <br>\n",
    "imshow 색깔 안이뻐서 슬픕니다. <br>\n",
    "sort 안 하고 출력 한 셀에만 주석을 열심히 달았고, 다른 셀은 주석 열심히 안 달았습니다. <br><br>\n",
    "마인즈랩, 뷰노 등 다른 팀들이랑 공유는 매우매우 찬성입니다 :)"
   ]
  },
  {
   "cell_type": "code",
   "execution_count": 1,
   "metadata": {},
   "outputs": [],
   "source": [
    "import numpy as np\n",
    "import pandas as pd\n",
    "import matplotlib.pyplot as plt"
   ]
  },
  {
   "cell_type": "code",
   "execution_count": 17,
   "metadata": {},
   "outputs": [],
   "source": [
    "testCase = [11, 21, 43, 39, 13, 52, 35, 25, 28, 20, 66, 55, 54, 62, 50, 61, 49, 16, 60, 51, 39, 27, 54, 62, 65, 13, 34, 50, 48, 63, 19, 41, 18, 61, 23, 51, 39, 58, 35, 14, 35, 31, 67, 58, 25, 24, 58, 63, 59, 57, 69, 57, 34, 28, 61, 30, 18, 57, 10, 26, 42, 66, 31, 50, 63, 13, 42, 10, 57, 63, 61, 54, 50, 53, 20, 54, 66, 31, 48, 35, 28, 25, 37, 54, 32, 50, 42, 49, 62, 37, 31, 24, 63, 44, 66, 29, 25, 51, 52, 17, 67, 55, 27, 48, 23, 39, 38, 41, 46, 15, 46, 68, 24, 41, 38, 20, 33, 42, 12, 12, 51, 31, 53, 41, 25, 28, 39, 69, 61, 12, 55, 59, 35, 60, 13, 60, 22, 41, 60, 68, 28, 33, 31, 60, 27, 48, 38, 60, 19, 63, 28, 50, 24, 31, 42, 38, 11, 17, 50, 36, 27, 59, 42, 25, 16, 61, 35, 19, 32, 67, 40, 53, 33, 42, 15, 40, 62, 23, 42, 19, 57, 42, 43, 59, 12, 10, 45, 68, 16, 15, 15, 34, 67, 33, 27, 54, 53, 64, 18, 22];"
   ]
  },
  {
   "cell_type": "code",
   "execution_count": 65,
   "metadata": {},
   "outputs": [],
   "source": [
    "for i in range(len(testCase)): # 너무 큰 애들을 잡아줍니다..\n",
    "    if testCase[i] >15:\n",
    "        testCase[i]-=5"
   ]
  },
  {
   "cell_type": "code",
   "execution_count": 19,
   "metadata": {},
   "outputs": [],
   "source": [
    "# testCase를 d라는 딕셔너리에 담는 과정! \n",
    "# 나중에 d로 DataFrame 만들거임\n",
    "caseWidth = list()\n",
    "caseHeight = list()\n",
    "caseLen = len(testCase)\n",
    "for i in range(0, len(testCase),2):\n",
    "    caseWidth.append(testCase[i])\n",
    "    caseHeight.append(testCase[i+1])\n",
    "    # print(testCase[i], testCase[i+1])\n",
    "d = {'Width':caseWidth, 'Height':caseHeight}"
   ]
  },
  {
   "cell_type": "code",
   "execution_count": 7,
   "metadata": {},
   "outputs": [],
   "source": [
    "# numpy 배열을 바꿔주는 함수\n",
    "def drawRect(arr,wid, hei,xlocation, ylocation):\n",
    "    for i in range(wid): # 내부를 칠하는 반복문\n",
    "        for j in range(hei):\n",
    "            arr[xlocation+i][ylocation+j]=25\n",
    "    for i in range(wid+1): # 윗변, 아랫변을 칠하는 반복문\n",
    "        arr[xlocation+i][ylocation]=150\n",
    "        arr[xlocation+i][ylocation+hei]=150\n",
    "    for i in range(hei+1): # 좌변, 우변을 칠하는 반복문\n",
    "        arr[xlocation][ylocation+i]=150\n",
    "        arr[xlocation+wid][ylocation+i]=150\n",
    "        \n",
    "    return arr"
   ]
  },
  {
   "cell_type": "markdown",
   "metadata": {},
   "source": [
    "Sort 없이 출력"
   ]
  },
  {
   "cell_type": "code",
   "execution_count": 8,
   "metadata": {
    "scrolled": true
   },
   "outputs": [
    {
     "name": "stdout",
     "output_type": "stream",
     "text": [
      "pointer location -> i :   0  x :  11  y :  21 \t\trect size : width =  11  height =  21\n",
      "pointer location -> i :   1  x :  50  y :  43 \t\trect size : width =  39  height =  43\n",
      "pointer location -> i :   2  x :  63  y :  52 \t\trect size : width =  13  height =  52\n",
      "pointer location -> i :   3  x :  88  y :  52 \t\trect size : width =  25  height =  35\n",
      "pointer location -> i :   4  x : 108  y :  52 \t\trect size : width =  20  height =  28\n",
      "pointer location -> i :   5  x : 163  y :  66 \t\trect size : width =  55  height =  66\n",
      "pointer location -> i :   6  x : 217  y :  66 \t\trect size : width =  54  height =  62\n",
      "pointer location -> i :   7  x :  50  y : 127 \t\trect size : width =  50  height =  61\n",
      "pointer location -> i :   8  x :  66  y : 127 \t\trect size : width =  16  height =  49\n",
      "pointer location -> i :   9  x : 117  y : 127 \t\trect size : width =  51  height =  60\n",
      "pointer location -> i :  10  x : 144  y : 127 \t\trect size : width =  27  height =  39\n",
      "pointer location -> i :  11  x : 198  y : 128 \t\trect size : width =  54  height =  62\n",
      "pointer location -> i :  12  x : 211  y : 131 \t\trect size : width =  13  height =  65\n",
      "pointer location -> i :  13  x : 245  y : 131 \t\trect size : width =  34  height =  50\n",
      "pointer location -> i :  14  x :  48  y : 194 \t\trect size : width =  48  height =  63\n",
      "pointer location -> i :  15  x :  67  y : 194 \t\trect size : width =  19  height =  41\n",
      "pointer location -> i :  16  x :  85  y : 194 \t\trect size : width =  18  height =  61\n",
      "pointer location -> i :  17  x : 108  y : 194 \t\trect size : width =  23  height =  51\n",
      "pointer location -> i :  18  x : 147  y : 194 \t\trect size : width =  39  height =  58\n",
      "pointer location -> i :  19  x : 161  y : 194 \t\trect size : width =  14  height =  35\n",
      "pointer location -> i :  20  x : 192  y : 194 \t\trect size : width =  31  height =  35\n",
      "\n",
      "BREAK POINT!!!\t trect size : width =  58  height =  67\n",
      "적재율 : 0.53021240234375\n"
     ]
    },
    {
     "data": {
      "image/png": "[encoded data removed]",
      "text/plain": [
       "<Figure size 648x648 with 1 Axes>"
      ]
     },
     "metadata": {
      "needs_background": "light"
     },
     "output_type": "display_data"
    }
   ],
   "source": [
    "pt = np.zeros([256,256])\n",
    "x = 'x_pointer'\n",
    "y = 'y_pointer'\n",
    "pointer={x:0,y:0} # 포인터 딕셔너리\n",
    "RectDataFrame = pd.DataFrame(d) # RectDataFrame 생성 \n",
    "RectDataFrame['Area'] = RectDataFrame['Width']*RectDataFrame['Height'] # 적재율을 계산하기 위한 Rect 넓이 계산 \n",
    "# Height가 Width보다 크면 회전시킴\n",
    "tmp = RectDataFrame[RectDataFrame['Width']>RectDataFrame['Height']].index \n",
    "for i in tmp: \n",
    "    RectDataFrame['Width'][i], RectDataFrame['Height'][i] = RectDataFrame['Height'][i], RectDataFrame['Width'][i] # Swap\n",
    "upp = 0 # 층을 담는 변수! 처음에는 0\n",
    "for i in range(caseLen):\n",
    "    if pointer[y]+RectDataFrame['Height'][i]<256: # y보다 더 크면 죽어요!\n",
    "        if pointer[x]+RectDataFrame['Width'][i]<256: # pointer[x] + Width가 256보다 크면 층을 바꿈\n",
    "            drawRect(pt, RectDataFrame['Width'][i], RectDataFrame['Height'][i], pointer[x],upp) # 일단 그림을 그림\n",
    "            pointer[x]+=RectDataFrame['Width'][i] # pointer[x]값을 이동\n",
    "            if pointer[y]<RectDataFrame['Height'][i]+upp: # pointer[y]값이 새로운 Height보다 낮으면 pointer[y]값을 바꿔줌\n",
    "                pointer[y] = upp+RectDataFrame['Height'][i] \n",
    "                \n",
    "            pt[pointer[x]][pointer[y]]=100 # pointer 좌표 점 찍기\n",
    "            \n",
    "        # pointer[x]+ Width가 256보다 커져서 새로운 층으로 왔어요\n",
    "        else:\n",
    "            if pointer[y]+RectDataFrame['Height'][i]>256: # 너무 밑으로 내려올 수도 있어요. 밑에 자리가 없으면 죽어요! (사실 그럴 일은 거의 없음!)\n",
    "                # 얼마나 큰 애가 틀어오려다가 실패했는지 출력\n",
    "                print('\\nBREAK POINT!!!\\t', 'trect size : width = %3d  height = %3d'%(RectDataFrame['Width'][i], RectDataFrame['Height'][i]))\n",
    "                # 담은 상자 넓이 / 256*256\n",
    "                print('적재율 :', RectDataFrame['Area'][0:i].sum()/(256 * 256)) \n",
    "                break\n",
    "            upp = pointer[y] # 층을 pointer[y]의 값으로 바꿔줌\n",
    "            pointer[x] =0 # pointer[x] 값을 초기화\n",
    "            drawRect(pt, RectDataFrame['Width'][i], RectDataFrame['Height'][i], pointer[x], upp) # 일단 그림을 그림\n",
    "            if pointer[y]<RectDataFrame['Height'][i]+upp: # pointer[y]값이 새로운 Height보다 낮으면 pointer[y]값을 바꿔줌. 근데 무조건 바뀜... \n",
    "                pointer[y] = upp+RectDataFrame['Height'][i]\n",
    "            \n",
    "            pointer[x]+=RectDataFrame['Width'][i] # pointer[x]값을 이동\n",
    "            pt[pointer[x]][pointer[y]]=100 # pointer 좌표 점 찍기\n",
    "    else:\n",
    "        # 얼마나 큰 애가 틀어오려다가 실패했는지 출력\n",
    "        print('\\nBREAK POINT!!!\\t', 'trect size : width = %3d  height = %3d'%(RectDataFrame['Width'][i], RectDataFrame['Height'][i]))\n",
    "        # 담은 상자 넓이 / 256*256\n",
    "        print('적재율 :', RectDataFrame['Area'][0:i].sum()/(256 * 256))\n",
    "        break\n",
    "    # i번째 상자를 넣은 후의 pointer와 i번째 상자의 width와 height를 출력\n",
    "    print ('pointer location -> i : %3d  x : %3d  y : %3d'%(i,pointer[x],pointer[y]), '\\t\\trect size : width = %3d  height = %3d'%(RectDataFrame['Width'][i], RectDataFrame['Height'][i]))\n",
    "\n",
    "#그림을 그려요\n",
    "plt.figure(figsize=(9,9))\n",
    "plt.imshow(pt.transpose()) # 전치를 해줘야지 우리가 익숙한 그림으로 바뀝니다.\n",
    "plt.show()"
   ]
  },
  {
   "cell_type": "code",
   "execution_count": 37,
   "metadata": {},
   "outputs": [
    {
     "name": "stdout",
     "output_type": "stream",
     "text": [
      "[21, 43, 52, 35, 28, 66, 62, 61, 49, 60, 39, 62, 65, 50, 63, 41, 61, 51, 58, 35, 35, 67, 25, 63, 59, 69, 34, 61, 57, 26, 66, 50, 63, 42, 63, 61, 53, 54, 66, 48, 28, 54, 50, 49, 62, 31, 63, 66, 51, 52, 67, 48, 39, 41, 46, 68, 41, 38, 42, 12, 51, 53, 28, 69, 61, 59, 60, 60, 41, 68, 33, 60, 48, 60, 63, 50, 31, 42, 17, 50, 59, 42, 61, 35, 67, 53, 42, 40, 62, 42, 57, 59, 12, 68, 16, 34, 67, 54, 64, 22]\n"
     ]
    }
   ],
   "source": [
    "print(RectDataFrame['Height'].to_list())"
   ]
  },
  {
   "cell_type": "markdown",
   "metadata": {},
   "source": [
    "작은 것 부터 출력"
   ]
  },
  {
   "cell_type": "code",
   "execution_count": 68,
   "metadata": {
    "scrolled": false
   },
   "outputs": [
    {
     "name": "stdout",
     "output_type": "stream",
     "text": [
      "pointer location -> i :   0  x :  10  y :  10 \t\trect size : width =  10  height =  10\n",
      "pointer location -> i :   1  x :  20  y :  10 \t\trect size : width =  10  height =  10\n",
      "pointer location -> i :   2  x :  32  y :  12 \t\trect size : width =  12  height =  12\n",
      "pointer location -> i :   3  x :  44  y :  12 \t\trect size : width =  12  height =  12\n",
      "pointer location -> i :   4  x :  57  y :  13 \t\trect size : width =  13  height =  13\n",
      "pointer location -> i :   5  x :  70  y :  13 \t\trect size : width =  13  height =  13\n",
      "pointer location -> i :   6  x :  84  y :  14 \t\trect size : width =  14  height =  14\n",
      "pointer location -> i :   7  x :  99  y :  15 \t\trect size : width =  15  height =  15\n",
      "pointer location -> i :   8  x : 114  y :  15 \t\trect size : width =  15  height =  15\n",
      "pointer location -> i :   9  x : 130  y :  16 \t\trect size : width =  16  height =  16\n",
      "pointer location -> i :  10  x : 147  y :  17 \t\trect size : width =  17  height =  17\n",
      "pointer location -> i :  11  x : 164  y :  17 \t\trect size : width =  17  height =  17\n",
      "pointer location -> i :  12  x : 183  y :  19 \t\trect size : width =  19  height =  19\n",
      "pointer location -> i :  13  x : 202  y :  19 \t\trect size : width =  19  height =  19\n",
      "pointer location -> i :  14  x : 222  y :  20 \t\trect size : width =  20  height =  20\n",
      "pointer location -> i :  15  x : 242  y :  20 \t\trect size : width =  20  height =  20\n",
      "pointer location -> i :  16  x :  21  y :  41 \t\trect size : width =  21  height =  21\n",
      "pointer location -> i :  17  x :  43  y :  42 \t\trect size : width =  22  height =  22\n",
      "pointer location -> i :  18  x :  66  y :  43 \t\trect size : width =  23  height =  23\n",
      "pointer location -> i :  19  x :  90  y :  44 \t\trect size : width =  24  height =  24\n",
      "pointer location -> i :  20  x : 114  y :  44 \t\trect size : width =  24  height =  24\n",
      "pointer location -> i :  21  x : 139  y :  45 \t\trect size : width =  25  height =  25\n",
      "pointer location -> i :  22  x : 164  y :  45 \t\trect size : width =  25  height =  25\n",
      "pointer location -> i :  23  x : 189  y :  45 \t\trect size : width =  25  height =  25\n",
      "pointer location -> i :  24  x : 215  y :  46 \t\trect size : width =  26  height =  26\n",
      "pointer location -> i :  25  x : 242  y :  47 \t\trect size : width =  27  height =  27\n",
      "pointer location -> i :  26  x :  28  y :  75 \t\trect size : width =  28  height =  28\n",
      "pointer location -> i :  27  x :  56  y :  75 \t\trect size : width =  28  height =  28\n",
      "pointer location -> i :  28  x :  85  y :  76 \t\trect size : width =  29  height =  29\n",
      "pointer location -> i :  29  x : 115  y :  77 \t\trect size : width =  30  height =  30\n",
      "pointer location -> i :  30  x : 146  y :  78 \t\trect size : width =  31  height =  31\n",
      "pointer location -> i :  31  x : 177  y :  78 \t\trect size : width =  31  height =  31\n",
      "pointer location -> i :  32  x : 208  y :  78 \t\trect size : width =  31  height =  31\n",
      "pointer location -> i :  33  x : 239  y :  78 \t\trect size : width =  31  height =  31\n",
      "pointer location -> i :  34  x :  33  y : 111 \t\trect size : width =  33  height =  33\n",
      "pointer location -> i :  35  x :  66  y : 111 \t\trect size : width =  33  height =  33\n",
      "pointer location -> i :  36  x : 100  y : 112 \t\trect size : width =  34  height =  34\n",
      "pointer location -> i :  37  x : 135  y : 113 \t\trect size : width =  35  height =  35\n",
      "pointer location -> i :  38  x : 171  y : 114 \t\trect size : width =  36  height =  36\n",
      "pointer location -> i :  39  x : 208  y : 115 \t\trect size : width =  37  height =  37\n",
      "pointer location -> i :  40  x : 246  y : 116 \t\trect size : width =  38  height =  38\n",
      "pointer location -> i :  41  x :  39  y : 155 \t\trect size : width =  39  height =  39\n",
      "pointer location -> i :  42  x :  78  y : 155 \t\trect size : width =  39  height =  39\n",
      "pointer location -> i :  43  x : 118  y : 156 \t\trect size : width =  40  height =  40\n",
      "pointer location -> i :  44  x : 159  y : 157 \t\trect size : width =  41  height =  41\n",
      "pointer location -> i :  45  x : 200  y : 157 \t\trect size : width =  41  height =  41\n",
      "pointer location -> i :  46  x : 241  y : 157 \t\trect size : width =  41  height =  41\n",
      "pointer location -> i :  47  x :  41  y : 198 \t\trect size : width =  41  height =  41\n",
      "pointer location -> i :  48  x :  82  y : 198 \t\trect size : width =  41  height =  41\n",
      "pointer location -> i :  49  x : 124  y : 199 \t\trect size : width =  42  height =  42\n",
      "pointer location -> i :  50  x : 166  y : 199 \t\trect size : width =  42  height =  42\n",
      "pointer location -> i :  51  x : 208  y : 199 \t\trect size : width =  42  height =  42\n",
      "pointer location -> i :  52  x : 252  y : 201 \t\trect size : width =  44  height =  44\n",
      "pointer location -> i :  53  x :  48  y : 249 \t\trect size : width =  48  height =  48\n"
     ]
    },
    {
     "data": {
      "image/png": "[encoded data removed]",
      "text/plain": [
       "<Figure size 648x648 with 1 Axes>"
      ]
     },
     "metadata": {
      "needs_background": "light"
     },
     "output_type": "display_data"
    }
   ],
   "source": [
    "pt = np.zeros([256,256])\n",
    "x = 'x_pointer'\n",
    "y = 'y_pointer'\n",
    "pointer={x:0,y:0}\n",
    "RectDataFrame = pd.DataFrame(d) # RectDataFrame 생성\n",
    "RectDataFrame['Area'] = RectDataFrame['Width']*RectDataFrame['Height']\n",
    "tmp = RectDataFrame[RectDataFrame['Width']>RectDataFrame['Height']].index\n",
    "for i in tmp:\n",
    "    RectDataFrame['Width'], RectDataFrame['Height'] = RectDataFrame['Height'], RectDataFrame['Width']\n",
    "# Width가 작은 순서로 정렬\n",
    "RectDataFrame.sort_values('Width',inplace=True)\n",
    "RectDataFrame.reset_index(drop=True,inplace=True)\n",
    "upp = 0\n",
    "for i in range(len(RectDataFrame)):\n",
    "    if pointer[y]+RectDataFrame['Height'][i]<256: # y보다 더 크면 죽어요!\n",
    "        if pointer[x]+RectDataFrame['Width'][i]<256: # width를 넘겼을 때 \n",
    "            drawRect(pt, RectDataFrame['Width'][i], RectDataFrame['Height'][i], pointer[x],upp)\n",
    "            pointer[x]+=RectDataFrame['Width'][i]\n",
    "            if pointer[y]<RectDataFrame['Height'][i]+upp: # 포인터가 새로운 Height보다 더 낮으면 포인터를 높임\n",
    "                pointer[y] = upp+RectDataFrame['Height'][i]\n",
    "                \n",
    "            pt[pointer[x]][pointer[y]]=100 # 점 찍기\n",
    "        else:\n",
    "            if pointer[y]+RectDataFrame['Height'][i]>256: # 새로 내려왔는데 너무 밑으로 내려올 수도 있어요\n",
    "                print('\\nBREAK POINT!!!\\t', 'trect size : width = %3d  height = %3d'%(RectDataFrame['Width'][i], RectDataFrame['Height'][i]))\n",
    "                print('적재율 :', RectDataFrame['Area'][0:i].sum()/(256 * 256))\n",
    "                continue\n",
    "            upp = pointer[y]\n",
    "            pointer[x] =0\n",
    "            drawRect(pt, RectDataFrame['Width'][i], RectDataFrame['Height'][i], pointer[x], upp)\n",
    "            if pointer[y]<RectDataFrame['Height'][i]+upp: # 포인터가 새로운 Height보다 더 낮으면 포인터를 높임\n",
    "                pointer[y] = upp+RectDataFrame['Height'][i]\n",
    "                \n",
    "            pointer[x]+=RectDataFrame['Width'][i]\n",
    "            pt[pointer[x]][pointer[y]]=100 # 점 찍기\n",
    "    else:\n",
    "        continue\n",
    "        print('\\nBREAK POINT!!!\\t', 'trect size : width = %3d  height = %3d'%(RectDataFrame['Width'][i], RectDataFrame['Height'][i]))\n",
    "        print('적재율 :', RectDataFrame['Area'][0:i].sum()/(256 * 256))\n",
    "        \n",
    "    print ('pointer location -> i : %3d  x : %3d  y : %3d'%(i,pointer[x],pointer[y]), '\\t\\trect size : width = %3d  height = %3d'%(RectDataFrame['Width'][i], RectDataFrame['Height'][i]))\n",
    "plt.figure(figsize=(9,9))\n",
    "plt.imshow(pt.transpose())\n",
    "plt.show()"
   ]
  },
  {
   "cell_type": "markdown",
   "metadata": {},
   "source": [
    "큰 것부터 출력"
   ]
  },
  {
   "cell_type": "code",
   "execution_count": 67,
   "metadata": {
    "scrolled": false
   },
   "outputs": [
    {
     "name": "stdout",
     "output_type": "stream",
     "text": [
      "pointer location -> i :   0  x :  60  y :  68 \t\trect size : width =  60  height =  68\n",
      "pointer location -> i :   1  x : 118  y :  68 \t\trect size : width =  58  height =  63\n",
      "pointer location -> i :   2  x : 176  y :  68 \t\trect size : width =  58  height =  67\n",
      "pointer location -> i :   3  x : 233  y :  68 \t\trect size : width =  57  height =  59\n",
      "pointer location -> i :   4  x :  57  y : 137 \t\trect size : width =  57  height =  69\n",
      "pointer location -> i :   5  x : 114  y : 137 \t\trect size : width =  57  height =  63\n",
      "pointer location -> i :   6  x : 169  y : 137 \t\trect size : width =  55  height =  67\n",
      "pointer location -> i :   7  x : 224  y : 137 \t\trect size : width =  55  height =  66\n",
      "pointer location -> i :   8  x :  55  y : 196 \t\trect size : width =  55  height =  59\n",
      "pointer location -> i :  14  x : 105  y : 196 \t\trect size : width =  50  height =  53\n",
      "pointer location -> i :  20  x : 148  y : 196 \t\trect size : width =  43  height =  59\n",
      "pointer location -> i :  21  x : 190  y : 196 \t\trect size : width =  42  height =  57\n",
      "pointer location -> i :  22  x : 232  y : 196 \t\trect size : width =  42  height =  49\n",
      "pointer location -> i :  24  x :  41  y : 249 \t\trect size : width =  41  height =  53\n",
      "\n",
      "BREAK POINT!!!\t trect size : width =  10  height =  26\n",
      "적재율 : 2.5330352783203125\n"
     ]
    },
    {
     "data": {
      "image/png": "[encoded data removed]",
      "text/plain": [
       "<Figure size 648x648 with 1 Axes>"
      ]
     },
     "metadata": {
      "needs_background": "light"
     },
     "output_type": "display_data"
    }
   ],
   "source": [
    "pt = np.zeros([256,256])\n",
    "x = 'x_pointer'\n",
    "y = 'y_pointer'\n",
    "pointer={x:0,y:0}\n",
    "\n",
    "RectDataFrame = pd.DataFrame(d) # RectDataFrame 생성\n",
    "RectDataFrame['Area'] = RectDataFrame['Width']*RectDataFrame['Height']\n",
    "tmp = RectDataFrame[RectDataFrame['Width']>RectDataFrame['Height']].index \n",
    "for i in tmp: \n",
    "    RectDataFrame['Width'][i], RectDataFrame['Height'][i] = RectDataFrame['Height'][i], RectDataFrame['Width'][i] # Swap\n",
    "# Width가 큰 순서로 정렬\n",
    "RectDataFrame.sort_values('Width',inplace=True, ascending=False)\n",
    "RectDataFrame.reset_index(drop=True,inplace=True)\n",
    "upp = 0\n",
    "for i in range(len(RectDataFrame)):\n",
    "    if pointer[y]+RectDataFrame['Height'][i]<256: # y보다 더 크면 죽어요!\n",
    "        if pointer[x]+RectDataFrame['Width'][i]<256: # width를 넘겼을 때 \n",
    "            drawRect(pt, RectDataFrame['Width'][i], RectDataFrame['Height'][i], pointer[x],upp)\n",
    "            pointer[x]+=RectDataFrame['Width'][i]\n",
    "            if pointer[y]<RectDataFrame['Height'][i]+upp: # 포인터가 새로운 Height보다 더 낮으면 포인터를 높임\n",
    "                pointer[y] = upp+RectDataFrame['Height'][i]\n",
    "                \n",
    "            pt[pointer[x]][pointer[y]]=100 # 점 찍기\n",
    "        else:\n",
    "            if pointer[y]+RectDataFrame['Height'][i]>256: # 새로 내려왔는데 너무 밑으로 내려올 수도 있어요\n",
    "                print('\\nBREAK POINT!!!\\t', 'trect size : width = %3d  height = %3d'%(RectDataFrame['Width'][i], RectDataFrame['Height'][i]))\n",
    "                print('적재율 :', RectDataFrame['Area'][0:i].sum()/(256 * 256))\n",
    "                continue\n",
    "            upp = pointer[y]\n",
    "            pointer[x] =0\n",
    "            drawRect(pt, RectDataFrame['Width'][i], RectDataFrame['Height'][i], pointer[x], upp)\n",
    "            if pointer[y]<RectDataFrame['Height'][i]+upp: # 포인터가 새로운 Height보다 더 낮으면 포인터를 높임\n",
    "                pointer[y] = upp+RectDataFrame['Height'][i]\n",
    "                \n",
    "            pointer[x]+=RectDataFrame['Width'][i]\n",
    "            pt[pointer[x]][pointer[y]]=100 # 점 찍기\n",
    "    else:\n",
    "        continue\n",
    "        print('\\nBREAK POINT!!!\\t', 'trect size : width = %3d  height = %3d'%(RectDataFrame['Width'][i], RectDataFrame['Height'][i]))\n",
    "        print('적재율 :', RectDataFrame['Area'][0:i].sum()/(256 * 256))\n",
    "        \n",
    "    print ('pointer location -> i : %3d  x : %3d  y : %3d'%(i,pointer[x],pointer[y]), '\\t\\trect size : width = %3d  height = %3d'%(RectDataFrame['Width'][i], RectDataFrame['Height'][i]))\n",
    "print('\\nBREAK POINT!!!\\t', 'trect size : width = %3d  height = %3d'%(RectDataFrame['Width'][i], RectDataFrame['Height'][i]))\n",
    "print('적재율 :', RectDataFrame['Area'][0:i].sum()/(256 * 256))\n",
    "plt.figure(figsize=(9,9))\n",
    "# for i in range(256):\n",
    "#     for j in range(256):\n",
    "#         pt2[i][j][0] = pt2[i][j][1] = pt2[i][j][2] = pt[j][i]\n",
    "plt.imshow(pt)\n",
    "plt.show()"
   ]
  }
 ],
 "metadata": {
  "kernelspec": {
   "display_name": "Python 3",
   "language": "python",
   "name": "python3"
  },
  "language_info": {
   "codemirror_mode": {
    "name": "ipython",
    "version": 3
   },
   "file_extension": ".py",
   "mimetype": "text/x-python",
   "name": "python",
   "nbconvert_exporter": "python",
   "pygments_lexer": "ipython3",
   "version": "3.7.3"
  }
 },
 "nbformat": 4,
 "nbformat_minor": 2
}
